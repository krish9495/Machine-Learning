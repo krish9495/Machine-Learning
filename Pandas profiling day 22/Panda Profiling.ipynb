{
 "cells": [
  {
   "cell_type": "code",
   "execution_count": 7,
   "id": "805a0c35-3aab-4d65-b9d6-93fc375dd929",
   "metadata": {},
   "outputs": [],
   "source": [
    "import pandas as pd"
   ]
  },
  {
   "cell_type": "code",
   "execution_count": 8,
   "id": "1e23309a-f428-4a45-b2db-42a9751b557b",
   "metadata": {},
   "outputs": [],
   "source": [
    "df= pd.read_csv(r\"D:\\100 Days machine learning\\EDA using Bivariate and Multivariate Analysis day 21\\datasets\\train.csv\")"
   ]
  },
  {
   "cell_type": "code",
   "execution_count": 3,
   "id": "f089aba4-ca80-47a2-9743-2d8749db1735",
   "metadata": {},
   "outputs": [
    {
     "name": "stdout",
     "output_type": "stream",
     "text": [
      "Requirement already satisfied: ydata_profiling in c:\\users\\avani\\appdata\\local\\programs\\python\\python312\\lib\\site-packages (4.12.1)\n",
      "Requirement already satisfied: scipy<1.14,>=1.4.1 in c:\\users\\avani\\appdata\\local\\programs\\python\\python312\\lib\\site-packages (from ydata_profiling) (1.13.1)\n",
      "Requirement already satisfied: pandas!=1.4.0,<3,>1.1 in c:\\users\\avani\\appdata\\local\\programs\\python\\python312\\lib\\site-packages (from ydata_profiling) (2.2.3)\n",
      "Requirement already satisfied: matplotlib<3.10,>=3.5 in c:\\users\\avani\\appdata\\local\\programs\\python\\python312\\lib\\site-packages (from ydata_profiling) (3.9.4)\n",
      "Requirement already satisfied: pydantic>=2 in c:\\users\\avani\\appdata\\local\\programs\\python\\python312\\lib\\site-packages (from ydata_profiling) (2.10.5)\n",
      "Requirement already satisfied: PyYAML<6.1,>=5.0.0 in c:\\users\\avani\\appdata\\local\\programs\\python\\python312\\lib\\site-packages (from ydata_profiling) (6.0.2)\n",
      "Requirement already satisfied: jinja2<3.2,>=2.11.1 in c:\\users\\avani\\appdata\\local\\programs\\python\\python312\\lib\\site-packages (from ydata_profiling) (3.1.4)\n",
      "Collecting visions<0.7.7,>=0.7.5 (from visions[type_image_path]<0.7.7,>=0.7.5->ydata_profiling)\n",
      "  Using cached visions-0.7.6-py3-none-any.whl.metadata (11 kB)\n",
      "Requirement already satisfied: numpy<2.2,>=1.16.0 in c:\\users\\avani\\appdata\\local\\programs\\python\\python312\\lib\\site-packages (from ydata_profiling) (2.0.0)\n",
      "Requirement already satisfied: htmlmin==0.1.12 in c:\\users\\avani\\appdata\\local\\programs\\python\\python312\\lib\\site-packages (from ydata_profiling) (0.1.12)\n",
      "Requirement already satisfied: phik<0.13,>=0.11.1 in c:\\users\\avani\\appdata\\local\\programs\\python\\python312\\lib\\site-packages (from ydata_profiling) (0.12.4)\n",
      "Requirement already satisfied: requests<3,>=2.24.0 in c:\\users\\avani\\appdata\\local\\programs\\python\\python312\\lib\\site-packages (from ydata_profiling) (2.32.3)\n",
      "Requirement already satisfied: tqdm<5,>=4.48.2 in c:\\users\\avani\\appdata\\local\\programs\\python\\python312\\lib\\site-packages (from ydata_profiling) (4.67.1)\n",
      "Requirement already satisfied: seaborn<0.14,>=0.10.1 in c:\\users\\avani\\appdata\\local\\programs\\python\\python312\\lib\\site-packages (from ydata_profiling) (0.13.2)\n",
      "Requirement already satisfied: multimethod<2,>=1.4 in c:\\users\\avani\\appdata\\local\\programs\\python\\python312\\lib\\site-packages (from ydata_profiling) (1.12)\n",
      "Requirement already satisfied: statsmodels<1,>=0.13.2 in c:\\users\\avani\\appdata\\local\\programs\\python\\python312\\lib\\site-packages (from ydata_profiling) (0.14.4)\n",
      "Requirement already satisfied: typeguard<5,>=3 in c:\\users\\avani\\appdata\\local\\programs\\python\\python312\\lib\\site-packages (from ydata_profiling) (4.4.1)\n",
      "Requirement already satisfied: imagehash==4.3.1 in c:\\users\\avani\\appdata\\local\\programs\\python\\python312\\lib\\site-packages (from ydata_profiling) (4.3.1)\n",
      "Requirement already satisfied: wordcloud>=1.9.3 in c:\\users\\avani\\appdata\\local\\programs\\python\\python312\\lib\\site-packages (from ydata_profiling) (1.9.4)\n",
      "Requirement already satisfied: dacite>=1.8 in c:\\users\\avani\\appdata\\local\\programs\\python\\python312\\lib\\site-packages (from ydata_profiling) (1.8.1)\n",
      "Requirement already satisfied: numba<1,>=0.56.0 in c:\\users\\avani\\appdata\\local\\programs\\python\\python312\\lib\\site-packages (from ydata_profiling) (0.60.0)\n",
      "Requirement already satisfied: PyWavelets in c:\\users\\avani\\appdata\\local\\programs\\python\\python312\\lib\\site-packages (from imagehash==4.3.1->ydata_profiling) (1.8.0)\n",
      "Requirement already satisfied: pillow in c:\\users\\avani\\appdata\\local\\programs\\python\\python312\\lib\\site-packages (from imagehash==4.3.1->ydata_profiling) (11.1.0)\n",
      "Requirement already satisfied: MarkupSafe>=2.0 in c:\\users\\avani\\appdata\\local\\programs\\python\\python312\\lib\\site-packages (from jinja2<3.2,>=2.11.1->ydata_profiling) (2.1.5)\n",
      "Requirement already satisfied: contourpy>=1.0.1 in c:\\users\\avani\\appdata\\local\\programs\\python\\python312\\lib\\site-packages (from matplotlib<3.10,>=3.5->ydata_profiling) (1.3.1)\n",
      "Requirement already satisfied: cycler>=0.10 in c:\\users\\avani\\appdata\\local\\programs\\python\\python312\\lib\\site-packages (from matplotlib<3.10,>=3.5->ydata_profiling) (0.12.1)\n",
      "Requirement already satisfied: fonttools>=4.22.0 in c:\\users\\avani\\appdata\\local\\programs\\python\\python312\\lib\\site-packages (from matplotlib<3.10,>=3.5->ydata_profiling) (4.55.3)\n",
      "Requirement already satisfied: kiwisolver>=1.3.1 in c:\\users\\avani\\appdata\\local\\programs\\python\\python312\\lib\\site-packages (from matplotlib<3.10,>=3.5->ydata_profiling) (1.4.8)\n",
      "Requirement already satisfied: packaging>=20.0 in c:\\users\\avani\\appdata\\local\\programs\\python\\python312\\lib\\site-packages (from matplotlib<3.10,>=3.5->ydata_profiling) (24.1)\n",
      "Requirement already satisfied: pyparsing>=2.3.1 in c:\\users\\avani\\appdata\\local\\programs\\python\\python312\\lib\\site-packages (from matplotlib<3.10,>=3.5->ydata_profiling) (3.2.1)\n",
      "Requirement already satisfied: python-dateutil>=2.7 in c:\\users\\avani\\appdata\\local\\programs\\python\\python312\\lib\\site-packages (from matplotlib<3.10,>=3.5->ydata_profiling) (2.9.0.post0)\n",
      "Requirement already satisfied: llvmlite<0.44,>=0.43.0dev0 in c:\\users\\avani\\appdata\\local\\programs\\python\\python312\\lib\\site-packages (from numba<1,>=0.56.0->ydata_profiling) (0.43.0)\n",
      "Requirement already satisfied: pytz>=2020.1 in c:\\users\\avani\\appdata\\local\\programs\\python\\python312\\lib\\site-packages (from pandas!=1.4.0,<3,>1.1->ydata_profiling) (2024.2)\n",
      "Requirement already satisfied: tzdata>=2022.7 in c:\\users\\avani\\appdata\\local\\programs\\python\\python312\\lib\\site-packages (from pandas!=1.4.0,<3,>1.1->ydata_profiling) (2024.2)\n",
      "Requirement already satisfied: joblib>=0.14.1 in c:\\users\\avani\\appdata\\local\\programs\\python\\python312\\lib\\site-packages (from phik<0.13,>=0.11.1->ydata_profiling) (1.1.1)\n",
      "Requirement already satisfied: annotated-types>=0.6.0 in c:\\users\\avani\\appdata\\local\\programs\\python\\python312\\lib\\site-packages (from pydantic>=2->ydata_profiling) (0.7.0)\n",
      "Requirement already satisfied: pydantic-core==2.27.2 in c:\\users\\avani\\appdata\\local\\programs\\python\\python312\\lib\\site-packages (from pydantic>=2->ydata_profiling) (2.27.2)\n",
      "Requirement already satisfied: typing-extensions>=4.12.2 in c:\\users\\avani\\appdata\\local\\programs\\python\\python312\\lib\\site-packages (from pydantic>=2->ydata_profiling) (4.12.2)\n",
      "Requirement already satisfied: charset-normalizer<4,>=2 in c:\\users\\avani\\appdata\\local\\programs\\python\\python312\\lib\\site-packages (from requests<3,>=2.24.0->ydata_profiling) (3.3.2)\n",
      "Requirement already satisfied: idna<4,>=2.5 in c:\\users\\avani\\appdata\\local\\programs\\python\\python312\\lib\\site-packages (from requests<3,>=2.24.0->ydata_profiling) (3.8)\n",
      "Requirement already satisfied: urllib3<3,>=1.21.1 in c:\\users\\avani\\appdata\\local\\programs\\python\\python312\\lib\\site-packages (from requests<3,>=2.24.0->ydata_profiling) (2.2.3)\n",
      "Requirement already satisfied: certifi>=2017.4.17 in c:\\users\\avani\\appdata\\local\\programs\\python\\python312\\lib\\site-packages (from requests<3,>=2.24.0->ydata_profiling) (2024.8.30)\n",
      "Requirement already satisfied: patsy>=0.5.6 in c:\\users\\avani\\appdata\\local\\programs\\python\\python312\\lib\\site-packages (from statsmodels<1,>=0.13.2->ydata_profiling) (1.0.1)\n",
      "Requirement already satisfied: colorama in c:\\users\\avani\\appdata\\local\\programs\\python\\python312\\lib\\site-packages (from tqdm<5,>=4.48.2->ydata_profiling) (0.4.6)\n",
      "Requirement already satisfied: attrs>=19.3.0 in c:\\users\\avani\\appdata\\local\\programs\\python\\python312\\lib\\site-packages (from visions<0.7.7,>=0.7.5->visions[type_image_path]<0.7.7,>=0.7.5->ydata_profiling) (24.2.0)\n",
      "Requirement already satisfied: networkx>=2.4 in c:\\users\\avani\\appdata\\local\\programs\\python\\python312\\lib\\site-packages (from visions<0.7.7,>=0.7.5->visions[type_image_path]<0.7.7,>=0.7.5->ydata_profiling) (3.4.2)\n",
      "Requirement already satisfied: six>=1.5 in c:\\users\\avani\\appdata\\local\\programs\\python\\python312\\lib\\site-packages (from python-dateutil>=2.7->matplotlib<3.10,>=3.5->ydata_profiling) (1.16.0)\n",
      "Using cached visions-0.7.6-py3-none-any.whl (104 kB)\n",
      "Installing collected packages: visions\n",
      "  Attempting uninstall: visions\n",
      "    Found existing installation: visions 0.7.4\n",
      "    Uninstalling visions-0.7.4:\n",
      "      Successfully uninstalled visions-0.7.4\n",
      "Successfully installed visions-0.7.6\n"
     ]
    },
    {
     "name": "stderr",
     "output_type": "stream",
     "text": [
      "ERROR: pip's dependency resolver does not currently take into account all the packages that are installed. This behaviour is the source of the following dependency conflicts.\n",
      "pandas-profiling 3.2.0 requires visions[type_image_path]==0.7.4, but you have visions 0.7.6 which is incompatible.\n"
     ]
    }
   ],
   "source": [
    "!pip install ydata_profiling "
   ]
  },
  {
   "cell_type": "code",
   "execution_count": 4,
   "id": "70bed3c4-d0ec-4219-920d-e0d39e41987a",
   "metadata": {},
   "outputs": [],
   "source": [
    "from ydata_profiling import ProfileReport"
   ]
  },
  {
   "cell_type": "code",
   "execution_count": 11,
   "id": "bd6b56ba-ebac-474e-a2aa-20ec1c840ee3",
   "metadata": {},
   "outputs": [
    {
     "name": "stderr",
     "output_type": "stream",
     "text": [
      "Summarize dataset: 100%|████████████████████████████████████████████████████| 47/47 [00:10<00:00,  4.29it/s, Completed]\n",
      "Generate report structure: 100%|█████████████████████████████████████████████████████████| 1/1 [00:11<00:00, 11.55s/it]\n",
      "Render HTML: 100%|███████████████████████████████████████████████████████████████████████| 1/1 [00:04<00:00,  4.19s/it]\n",
      "Export report to file: 100%|█████████████████████████████████████████████████████████████| 1/1 [00:00<00:00, 36.49it/s]\n"
     ]
    }
   ],
   "source": [
    "prof=ProfileReport(df)\n",
    "prof.to_file(output_file='output.html')"
   ]
  },
  {
   "cell_type": "code",
   "execution_count": null,
   "id": "f40348d5-46d2-4b0a-97a1-442bede72c4f",
   "metadata": {},
   "outputs": [],
   "source": []
  }
 ],
 "metadata": {
  "kernelspec": {
   "display_name": "Python 3 (ipykernel)",
   "language": "python",
   "name": "python3"
  },
  "language_info": {
   "codemirror_mode": {
    "name": "ipython",
    "version": 3
   },
   "file_extension": ".py",
   "mimetype": "text/x-python",
   "name": "python",
   "nbconvert_exporter": "python",
   "pygments_lexer": "ipython3",
   "version": "3.12.5"
  }
 },
 "nbformat": 4,
 "nbformat_minor": 5
}
