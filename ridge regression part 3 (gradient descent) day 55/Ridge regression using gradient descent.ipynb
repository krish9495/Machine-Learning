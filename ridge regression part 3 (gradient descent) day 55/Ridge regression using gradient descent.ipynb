{
 "cells": [
  {
   "cell_type": "code",
   "execution_count": 1,
   "id": "f071db18-e593-478d-a0e1-40b4332b20c6",
   "metadata": {},
   "outputs": [],
   "source": [
    "from sklearn.datasets import load_diabetes\n",
    "from sklearn.metrics import r2_score\n",
    "import numpy as np"
   ]
  },
  {
   "cell_type": "code",
   "execution_count": 2,
   "id": "fcf1b502-29b2-4adb-9fe1-7dc71d3dc282",
   "metadata": {},
   "outputs": [],
   "source": [
    "X,y=load_diabetes(return_X_y=True)"
   ]
  },
  {
   "cell_type": "code",
   "execution_count": 3,
   "id": "c867129b-faf3-49a8-bc22-5e77a45aa5ff",
   "metadata": {},
   "outputs": [
    {
     "data": {
      "text/plain": [
       "(442, 10)"
      ]
     },
     "execution_count": 3,
     "metadata": {},
     "output_type": "execute_result"
    }
   ],
   "source": [
    "X.shape"
   ]
  },
  {
   "cell_type": "code",
   "execution_count": 4,
   "id": "694339ee-bffe-4dbc-8d76-304bc6990182",
   "metadata": {},
   "outputs": [
    {
     "data": {
      "text/plain": [
       "(442,)"
      ]
     },
     "execution_count": 4,
     "metadata": {},
     "output_type": "execute_result"
    }
   ],
   "source": [
    "y.shape"
   ]
  },
  {
   "cell_type": "code",
   "execution_count": 5,
   "id": "2080cf61-6092-48dd-a488-6508765f659a",
   "metadata": {},
   "outputs": [],
   "source": [
    "from sklearn.model_selection import train_test_split"
   ]
  },
  {
   "cell_type": "code",
   "execution_count": 6,
   "id": "77c6a4b6-91f2-41aa-8333-0a2b1cb40c63",
   "metadata": {},
   "outputs": [],
   "source": [
    "X_train,X_test,y_train,y_test=train_test_split(X,y,test_size=0.2,random_state=4)"
   ]
  },
  {
   "cell_type": "code",
   "execution_count": 7,
   "id": "90f6a7a8-3c6b-4f7a-add7-5e235e888566",
   "metadata": {},
   "outputs": [],
   "source": [
    "from sklearn.linear_model import SGDRegressor"
   ]
  },
  {
   "cell_type": "code",
   "execution_count": 8,
   "id": "fb5d9d0c-91da-43e9-a81c-254fce782f4b",
   "metadata": {},
   "outputs": [],
   "source": [
    "reg=SGDRegressor(penalty='l2',max_iter=500,eta0=1,learning_rate='constant',alpha=0.001)"
   ]
  },
  {
   "cell_type": "code",
   "execution_count": 9,
   "id": "e5a6eeb8-ca36-4c01-8b2f-3b92a48b0b79",
   "metadata": {},
   "outputs": [
    {
     "name": "stdout",
     "output_type": "stream",
     "text": [
      "R2 score -0.41480805658271147\n",
      "[  54.89553597 -193.1258277   351.03507336  283.53415386  -31.90401771\n",
      "  -83.27466585 -174.31177924  148.43352853  331.50292105   45.43636864]\n",
      "[225.23236064]\n"
     ]
    }
   ],
   "source": [
    "reg.fit(X_train,y_train)\n",
    "\n",
    "y_pred = reg.predict(X_test)\n",
    "print(\"R2 score\",r2_score(y_test,y_pred))\n",
    "print(reg.coef_)\n",
    "print(reg.intercept_)"
   ]
  },
  {
   "cell_type": "code",
   "execution_count": 10,
   "id": "0f7bf126-17a0-4aeb-ae28-e247553b8d6c",
   "metadata": {},
   "outputs": [],
   "source": [
    "from sklearn.linear_model import Ridge\n"
   ]
  },
  {
   "cell_type": "code",
   "execution_count": 11,
   "id": "14fd9831-6083-48fd-b042-9a2cdaa569fe",
   "metadata": {},
   "outputs": [],
   "source": [
    "reg=Ridge(alpha=0.001,max_iter=500,solver='sparse_cg')"
   ]
  },
  {
   "cell_type": "code",
   "execution_count": 12,
   "id": "2e3983aa-b71e-499e-b59d-bbf76fdc5078",
   "metadata": {},
   "outputs": [
    {
     "name": "stdout",
     "output_type": "stream",
     "text": [
      "R2 score 0.46250101619914563\n",
      "[  34.52192544 -290.84084076  482.40181344  368.0678662  -852.44873179\n",
      "  501.59160336  180.11115788  270.76333979  759.73534372   37.4913546 ]\n",
      "151.10198517439466\n"
     ]
    }
   ],
   "source": [
    "reg.fit(X_train,y_train)\n",
    "\n",
    "y_pred = reg.predict(X_test)\n",
    "print(\"R2 score\",r2_score(y_test,y_pred))\n",
    "print(reg.coef_)\n",
    "print(reg.intercept_)"
   ]
  },
  {
   "cell_type": "code",
   "execution_count": 18,
   "id": "97e5e8b8-e52c-4852-92c5-e91c63c43847",
   "metadata": {},
   "outputs": [],
   "source": [
    "import numpy as np\n",
    "\n",
    "class MeraRidgeGD:\n",
    "\n",
    "    def __init__(self, epoch, learning_rate, alpha):\n",
    "        self.m = None\n",
    "        self.b = None\n",
    "        self.epoch = epoch\n",
    "        self.lr = learning_rate\n",
    "        self.alpha = alpha\n",
    "\n",
    "    def fit(self, X_train, y_train):\n",
    "        # Initialize parameters\n",
    "        self.b = 0\n",
    "        self.m = np.ones(X_train.shape[1])\n",
    "        thetha = np.insert(self.m, 0, self.b)  # Insert bias term into the weights\n",
    "\n",
    "        # Add bias term to X_train\n",
    "        X_train = np.insert(X_train, 0, 1, axis=1)\n",
    "\n",
    "        # Gradient Descent\n",
    "        for i in range(self.epoch):\n",
    "            regularization = self.alpha * np.append([0], thetha[1:])  # Do not regularize the bias term\n",
    "            thetha_der = np.dot(X_train.T, np.dot(X_train, thetha) - y_train) + regularization\n",
    "            thetha = thetha - self.lr * thetha_der\n",
    "\n",
    "        # Extract final parameters\n",
    "        self.coef_ = thetha[1:]\n",
    "        self.intercept_ = thetha[0]\n",
    "\n",
    "    def predict(self, X_test):\n",
    "        # Add intercept manually to predictions\n",
    "        return np.dot(X_test, self.coef_) + self.intercept_\n"
   ]
  },
  {
   "cell_type": "code",
   "execution_count": 19,
   "id": "a925f18c-705d-497d-939c-5e20573bbcdb",
   "metadata": {},
   "outputs": [],
   "source": [
    "reg = MeraRidgeGD(epoch=500,alpha=0.001,learning_rate=0.005)"
   ]
  },
  {
   "cell_type": "code",
   "execution_count": 20,
   "id": "89e053ab-c936-4fd8-adb3-b6c7688af803",
   "metadata": {},
   "outputs": [
    {
     "name": "stdout",
     "output_type": "stream",
     "text": [
      "R2 score 0.4738028305152697\n",
      "[  46.65030722 -221.37477332  452.12073758  325.54232116  -29.09454705\n",
      "  -96.47500036 -190.90007212  146.32917061  400.80277232   95.09025567]\n",
      "150.87018209497234\n"
     ]
    }
   ],
   "source": [
    "reg.fit(X_train,y_train)\n",
    "\n",
    "y_pred = reg.predict(X_test)\n",
    "print(\"R2 score\",r2_score(y_test,y_pred))\n",
    "print(reg.coef_)\n",
    "print(reg.intercept_)"
   ]
  },
  {
   "cell_type": "code",
   "execution_count": null,
   "id": "8b0e2983-27a3-46cd-a92c-2b9ca4f71b44",
   "metadata": {},
   "outputs": [],
   "source": []
  },
  {
   "cell_type": "code",
   "execution_count": null,
   "id": "5da46356-7baf-403b-875d-70b4c3de31e9",
   "metadata": {},
   "outputs": [],
   "source": []
  }
 ],
 "metadata": {
  "kernelspec": {
   "display_name": "Python 3 (ipykernel)",
   "language": "python",
   "name": "python3"
  },
  "language_info": {
   "codemirror_mode": {
    "name": "ipython",
    "version": 3
   },
   "file_extension": ".py",
   "mimetype": "text/x-python",
   "name": "python",
   "nbconvert_exporter": "python",
   "pygments_lexer": "ipython3",
   "version": "3.12.5"
  }
 },
 "nbformat": 4,
 "nbformat_minor": 5
}
